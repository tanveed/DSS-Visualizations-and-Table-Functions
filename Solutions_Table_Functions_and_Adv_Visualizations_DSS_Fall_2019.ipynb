{
 "cells": [
  {
   "cell_type": "markdown",
   "metadata": {},
   "source": [
    "# Slides [here](https://docs.google.com/presentation/d/1iLMu2MvnkyjGzEf__e1ftTEVtV20TB3QAfSqJm24l54/edit?usp=sharing)"
   ]
  },
  {
   "cell_type": "code",
   "execution_count": null,
   "metadata": {
    "colab": {},
    "colab_type": "code",
    "id": "BPCwgENRvWys"
   },
   "outputs": [],
   "source": [
    "import pandas as pd\n",
    "import numpy as np\n",
    "netflix  = pd.read_csv(\"Netflix-Shows-2.csv\", encoding= \"ISO-8859-1\")\n",
    "movies = pd.read_csv(\"movies.csv\",  encoding= \"ISO-8859-1\")"
   ]
  },
  {
   "cell_type": "code",
   "execution_count": null,
   "metadata": {},
   "outputs": [],
   "source": [
    "netflix.head()"
   ]
  },
  {
   "cell_type": "code",
   "execution_count": null,
   "metadata": {},
   "outputs": [],
   "source": [
    "movies.head()"
   ]
  },
  {
   "cell_type": "markdown",
   "metadata": {
    "colab_type": "text",
    "id": "yoY1HPm3SD82"
   },
   "source": [
    "# Exploratory Data Analysis: Column Functions"
   ]
  },
  {
   "cell_type": "markdown",
   "metadata": {
    "colab_type": "text",
    "id": "viRom4OkSNGY"
   },
   "source": [
    "Let's start by investing what our column types are. We can do this using the **df.dtype** function."
   ]
  },
  {
   "cell_type": "code",
   "execution_count": null,
   "metadata": {
    "colab": {
     "base_uri": "https://localhost:8080/",
     "height": 153
    },
    "colab_type": "code",
    "executionInfo": {
     "elapsed": 455,
     "status": "ok",
     "timestamp": 1570493886661,
     "user": {
      "displayName": "Anjali Unnithan",
      "photoUrl": "",
      "userId": "10618532203405168572"
     },
     "user_tz": 420
    },
    "id": "No-NMkGWU845",
    "outputId": "0f1adcf5-1f47-4497-e4d7-c204cc435448"
   },
   "outputs": [],
   "source": [
    "netflix.dtypes"
   ]
  },
  {
   "cell_type": "code",
   "execution_count": null,
   "metadata": {
    "colab": {
     "base_uri": "https://localhost:8080/",
     "height": 289
    },
    "colab_type": "code",
    "executionInfo": {
     "elapsed": 409,
     "status": "ok",
     "timestamp": 1570493888755,
     "user": {
      "displayName": "Anjali Unnithan",
      "photoUrl": "",
      "userId": "10618532203405168572"
     },
     "user_tz": 420
    },
    "id": "T4AkVgxaVBfc",
    "outputId": "53f7533f-4e3a-4bfd-8e40-50ee263194d8"
   },
   "outputs": [],
   "source": [
    "movies.dtypes"
   ]
  },
  {
   "cell_type": "markdown",
   "metadata": {
    "colab_type": "text",
    "id": "6GG4aqpgVSD6"
   },
   "source": [
    "Notice that columns such as the movie name and company are object types, meaning that it is an immutable type such as string. "
   ]
  },
  {
   "cell_type": "markdown",
   "metadata": {
    "colab_type": "text",
    "id": "FKqGOp_8Wy8R"
   },
   "source": [
    "## Converting Data Types\n",
    "There are two standard ways of converting pandas data types:\n",
    "<br>\n",
    "1) \\<column>.astype(\\<desired type>)\n",
    "<br>\n",
    "2) conversion helper functions, like pd.to_numeric or pd.to_datetime\n",
    "\n"
   ]
  },
  {
   "cell_type": "markdown",
   "metadata": {
    "colab_type": "text",
    "id": "EBBNZt9uXipa"
   },
   "source": [
    "Let's start with the .astype() function, which has to be called directly on the column that you want to convert. We must then re-assign the column to the converted column. \n",
    "<br>\n",
    "<br>\n",
    " Let's convert the 'ratingDescription' column of the netflix dataset from an integer to a float. "
   ]
  },
  {
   "cell_type": "code",
   "execution_count": null,
   "metadata": {
    "colab": {
     "base_uri": "https://localhost:8080/",
     "height": 1000
    },
    "colab_type": "code",
    "executionInfo": {
     "elapsed": 470,
     "status": "ok",
     "timestamp": 1570493891898,
     "user": {
      "displayName": "Anjali Unnithan",
      "photoUrl": "",
      "userId": "10618532203405168572"
     },
     "user_tz": 420
    },
    "id": "gQo7igW_XnQu",
    "outputId": "247d7e1b-7ced-4558-93ce-f7ad6b9d5747"
   },
   "outputs": [],
   "source": [
    "netflix['ratingDescription'].astype('float')"
   ]
  },
  {
   "cell_type": "markdown",
   "metadata": {
    "colab_type": "text",
    "id": "hyJ-tKU3YRXd"
   },
   "source": [
    "Exercise: Convert and re-assign the 'runtime' column of the movies dataset into a float. "
   ]
  },
  {
   "cell_type": "code",
   "execution_count": null,
   "metadata": {
    "colab": {},
    "colab_type": "code",
    "id": "9g-T2c-uY4G_"
   },
   "outputs": [],
   "source": [
    "movies['runtime'] = movies['runtime'].astype('float')"
   ]
  },
  {
   "cell_type": "markdown",
   "metadata": {
    "colab_type": "text",
    "id": "UX6NjyvUZDfZ"
   },
   "source": [
    "Let's now consider the second data type conversion that focuses on time. \n",
    "<br>\n",
    "<br>\n",
    "Functions such as pd.to_numeric(), pd.to_datetime(), and pd.to_timedelta() are what are called conversion helper functions. They allow you to be more specific about data types with less code. For example:"
   ]
  },
  {
   "cell_type": "code",
   "execution_count": null,
   "metadata": {
    "colab": {
     "base_uri": "https://localhost:8080/",
     "height": 34
    },
    "colab_type": "code",
    "executionInfo": {
     "elapsed": 488,
     "status": "ok",
     "timestamp": 1570495045796,
     "user": {
      "displayName": "Anjali Unnithan",
      "photoUrl": "",
      "userId": "10618532203405168572"
     },
     "user_tz": 420
    },
    "id": "YS37Bh6HZhnR",
    "outputId": "59c4582b-e3a1-4540-9913-0ef5a531222e"
   },
   "outputs": [],
   "source": [
    "print(pd.to_datetime('2019-10-7'))"
   ]
  },
  {
   "cell_type": "code",
   "execution_count": null,
   "metadata": {
    "colab": {
     "base_uri": "https://localhost:8080/",
     "height": 34
    },
    "colab_type": "code",
    "executionInfo": {
     "elapsed": 400,
     "status": "ok",
     "timestamp": 1570495048485,
     "user": {
      "displayName": "Anjali Unnithan",
      "photoUrl": "",
      "userId": "10618532203405168572"
     },
     "user_tz": 420
    },
    "id": "-r0ezzM7ZA66",
    "outputId": "38888159-db95-41d2-a8dd-4a1c46be72ca"
   },
   "outputs": [],
   "source": [
    "pd.to_datetime('20191007',format='%Y%d%m')"
   ]
  },
  {
   "cell_type": "markdown",
   "metadata": {
    "colab_type": "text",
    "id": "fUaUZqt4ajY0"
   },
   "source": [
    "Let's convert the 'released' column of our movies dataset to a datetime object from a string. "
   ]
  },
  {
   "cell_type": "code",
   "execution_count": null,
   "metadata": {
    "colab": {
     "base_uri": "https://localhost:8080/",
     "height": 34
    },
    "colab_type": "code",
    "executionInfo": {
     "elapsed": 324,
     "status": "ok",
     "timestamp": 1570495068791,
     "user": {
      "displayName": "Anjali Unnithan",
      "photoUrl": "",
      "userId": "10618532203405168572"
     },
     "user_tz": 420
    },
    "id": "wlubmusiafpB",
    "outputId": "7617c349-5f43-4324-93d0-2c01c1c925ed"
   },
   "outputs": [],
   "source": [
    "type(movies['released'][0])"
   ]
  },
  {
   "cell_type": "code",
   "execution_count": null,
   "metadata": {
    "colab": {},
    "colab_type": "code",
    "id": "fzT8Rewza1L5"
   },
   "outputs": [],
   "source": [
    "movies['released'] = pd.to_datetime(movies['released'])"
   ]
  },
  {
   "cell_type": "code",
   "execution_count": null,
   "metadata": {
    "colab": {
     "base_uri": "https://localhost:8080/",
     "height": 34
    },
    "colab_type": "code",
    "executionInfo": {
     "elapsed": 623,
     "status": "ok",
     "timestamp": 1570495082610,
     "user": {
      "displayName": "Anjali Unnithan",
      "photoUrl": "",
      "userId": "10618532203405168572"
     },
     "user_tz": 420
    },
    "id": "J_Mn5x6LbMpf",
    "outputId": "5ba5b597-d6e3-416f-aeb1-14c0478d0829"
   },
   "outputs": [],
   "source": [
    "type(movies['released'][0])"
   ]
  },
  {
   "cell_type": "code",
   "execution_count": null,
   "metadata": {},
   "outputs": [],
   "source": [
    "movies['released'][0]"
   ]
  },
  {
   "cell_type": "markdown",
   "metadata": {
    "colab_type": "text",
    "id": "qLnqVFb1bo2j"
   },
   "source": [
    "## Another Important Time Function: .dt\"\n"
   ]
  },
  {
   "cell_type": "markdown",
   "metadata": {
    "colab_type": "text",
    "id": "ojErlMLocTEM"
   },
   "source": [
    "The '.dt' function is useful for getting specific parts of the datetime object. For example, if you call df['column'].dt.weekday_name, it will return a series of days (Sunday, Monday, etc.). Here are some of the other dt attributes:\n",
    "\n",
    "nanosecond, microsecond, second, minute, hour, day, week, month, quarter, year"
   ]
  },
  {
   "cell_type": "markdown",
   "metadata": {
    "colab_type": "text",
    "id": "fLRQCEOSdekc"
   },
   "source": [
    "For example, if we want to extract the months from the movies['released'] column, we would call: "
   ]
  },
  {
   "cell_type": "code",
   "execution_count": null,
   "metadata": {
    "colab": {},
    "colab_type": "code",
    "id": "EdBRM0NBbP8u"
   },
   "outputs": [],
   "source": [
    "movies['released'].dt.month"
   ]
  },
  {
   "cell_type": "markdown",
   "metadata": {},
   "source": [
    "## Columns: loc/iloc\n",
    "<br>\n",
    "What if we want to exclude high grossing movies from our dataset or hate a particular director?\n",
    "<br>\n",
    "We have the pandas dataframe loc/iloc functions!\n",
    "<br>\n",
    "Selection Options\n",
    "There’s 2 main options to achieve selection and indexing activities in Pandas, which can be confusing.\n",
    "<br>\n",
    "Selecting data by row numbers (.iloc)\n",
    "<br>\n",
    "Selecting data by label or by a conditional statment (.loc)\n",
    "<br>\n",
    "\n",
    "#### How to Drop rows in DataFrame by conditions on column values:"
   ]
  },
  {
   "cell_type": "code",
   "execution_count": null,
   "metadata": {
    "scrolled": true
   },
   "outputs": [],
   "source": [
    "# Get indices of movies for which \"gross\" is greater than 800\n",
    "indices = movies.loc[movies['gross'] >= 5000000].index\n",
    "# Delete these row indexes from dataFrame\n",
    "movies.drop(indices).head()"
   ]
  },
  {
   "cell_type": "markdown",
   "metadata": {},
   "source": [
    "### How will we find movies made in the United States?\n",
    "<br>\n",
    "Looking at the country column, it looks like, the United States is abbreviated as \"USA\"\n",
    "<br>\n",
    "Using loc and/or iloc, get the names of the movies that are made in the USA."
   ]
  },
  {
   "cell_type": "code",
   "execution_count": null,
   "metadata": {},
   "outputs": [],
   "source": [
    "movies.loc[movies[\"country\"] == \"USA\"]"
   ]
  },
  {
   "cell_type": "markdown",
   "metadata": {
    "colab_type": "text",
    "id": "UFXOVx6QvwXh"
   },
   "source": [
    "# str Function"
   ]
  },
  {
   "cell_type": "markdown",
   "metadata": {
    "colab_type": "text",
    "id": "d4Dmhp2PwRPS"
   },
   "source": [
    "The str function is useful for selecting particular rows in our dataset in which a string related function is met. \n",
    "\n",
    "<br> \n",
    "For example, if we want to convert the elements in a particular string column into all lower case letters, we would run something like this:\n",
    "<br>\n"
   ]
  },
  {
   "cell_type": "code",
   "execution_count": null,
   "metadata": {
    "colab": {},
    "colab_type": "code",
    "id": "PPv2FMgwN0fF"
   },
   "outputs": [],
   "source": [
    "movies['name'].str.lower().head()"
   ]
  },
  {
   "cell_type": "markdown",
   "metadata": {
    "colab_type": "text",
    "id": "_0monRXqOA2A"
   },
   "source": [
    "However, we must assign the above code to the column in order to actually see the change within the data frame. "
   ]
  },
  {
   "cell_type": "code",
   "execution_count": null,
   "metadata": {
    "colab": {},
    "colab_type": "code",
    "id": "upDGy5luN7nG",
    "scrolled": true
   },
   "outputs": [],
   "source": [
    "movies.head()"
   ]
  },
  {
   "cell_type": "markdown",
   "metadata": {
    "colab_type": "text",
    "id": "vNhPKsaSOPNi"
   },
   "source": [
    "Suppose we want to output the elements in which the title of a movie contains the words \"I\". What would that look like? How about \"I\" or \"You\"?"
   ]
  },
  {
   "cell_type": "code",
   "execution_count": null,
   "metadata": {
    "colab": {
     "base_uri": "https://localhost:8080/",
     "height": 445
    },
    "colab_type": "code",
    "executionInfo": {
     "elapsed": 459,
     "status": "ok",
     "timestamp": 1570491947972,
     "user": {
      "displayName": "Anjali Unnithan",
      "photoUrl": "",
      "userId": "10618532203405168572"
     },
     "user_tz": 420
    },
    "id": "MV9N7NmSm81F",
    "outputId": "3b69d883-35ca-4427-c9d3-0c2ae01a47a3",
    "scrolled": false
   },
   "outputs": [],
   "source": [
    "movies[movies['name'].str.contains(' I ')].head()"
   ]
  },
  {
   "cell_type": "code",
   "execution_count": null,
   "metadata": {},
   "outputs": [],
   "source": [
    "movies[movies['name'].str.contains(' I ') | movies['name'].str.contains(' You ') ].head()"
   ]
  },
  {
   "cell_type": "markdown",
   "metadata": {
    "colab_type": "text",
    "id": "am0SThOvyYTd"
   },
   "source": [
    "# GroupBy\n",
    "## agg\n",
    "How do we find out how many movies were released in 2001?\n",
    "<br>\n",
    "df.groupby!\n",
    "We can supply an aggregation functon of our own choice; we will use \"list\", but we can also find the average "
   ]
  },
  {
   "cell_type": "code",
   "execution_count": null,
   "metadata": {
    "colab": {
     "base_uri": "https://localhost:8080/",
     "height": 136
    },
    "colab_type": "code",
    "id": "NWecJkl_wEFC",
    "outputId": "85f57962-299c-47da-d56d-672ac44323a6"
   },
   "outputs": [],
   "source": [
    "movies.groupby(\"year\").agg(list).sample(10)[[\"name\"]]"
   ]
  },
  {
   "cell_type": "code",
   "execution_count": null,
   "metadata": {
    "colab": {
     "base_uri": "https://localhost:8080/",
     "height": 166
    },
    "colab_type": "code",
    "id": "ybry3iKtwXt8",
    "outputId": "98ab59ee-116e-4b5d-fd1e-57075ae63a32"
   },
   "outputs": [],
   "source": [
    "movies.groupby(\"year\").count().sample(10)[[\"name\"]]"
   ]
  },
  {
   "cell_type": "markdown",
   "metadata": {
    "colab_type": "text",
    "id": "OAjixiRWJbct"
   },
   "source": [
    "# Combining Data Frames"
   ]
  },
  {
   "cell_type": "markdown",
   "metadata": {
    "colab_type": "text",
    "id": "BMbQwG8MGNvY"
   },
   "source": [
    "## Merge"
   ]
  },
  {
   "cell_type": "markdown",
   "metadata": {
    "colab_type": "text",
    "id": "cPR2frHCJoFJ"
   },
   "source": [
    "Often times we would like to merge two dataframes if they have similar attributes or would like to perform more complex analyses with more attributes present. "
   ]
  },
  {
   "cell_type": "code",
   "execution_count": null,
   "metadata": {
    "colab": {
     "base_uri": "https://localhost:8080/",
     "height": 1000
    },
    "colab_type": "code",
    "executionInfo": {
     "elapsed": 388,
     "status": "ok",
     "timestamp": 1570490582050,
     "user": {
      "displayName": "Anjali Unnithan",
      "photoUrl": "",
      "userId": "10618532203405168572"
     },
     "user_tz": 420
    },
    "id": "hfwY1SqKwgc2",
    "outputId": "52a96eca-47e6-4aa0-9fab-91b248a390d0"
   },
   "outputs": [],
   "source": [
    "combined = pd.merge(left = movies, right = netflix, left_on = 'name', right_on = 'title', how = 'inner')\n",
    "combined\n",
    "#Notice repetitions"
   ]
  },
  {
   "cell_type": "code",
   "execution_count": null,
   "metadata": {
    "colab": {},
    "colab_type": "code",
    "id": "dzAzgK-RNPav"
   },
   "outputs": [],
   "source": [
    "#Remove repetitive columns\n",
    "combined = combined.drop(columns=['title', 'rating_x', 'release year'], axis = 1)  #SPECIFY AXIS =1 TO INDICATE COLUMNS\n",
    "combined"
   ]
  },
  {
   "cell_type": "code",
   "execution_count": null,
   "metadata": {
    "colab": {},
    "colab_type": "code",
    "id": "HyJ_QjOEU0U3"
   },
   "outputs": [],
   "source": [
    "#rename columns\n",
    "combined.rename(columns={\"rating_y\": \"rating\"})"
   ]
  },
  {
   "cell_type": "code",
   "execution_count": null,
   "metadata": {
    "colab": {},
    "colab_type": "code",
    "id": "rVTsIX8VWCLi"
   },
   "outputs": [],
   "source": [
    "#remove repetitive rows \n",
    "combined.drop_duplicates(subset=['name'], keep='first')"
   ]
  },
  {
   "cell_type": "markdown",
   "metadata": {
    "colab_type": "text",
    "id": "YruvhUC6bg4x"
   },
   "source": [
    "**Class Question**: What do you think would be outputted if we set 'how' to 'outer'?"
   ]
  },
  {
   "cell_type": "markdown",
   "metadata": {},
   "source": [
    "Solution: We would get a union of all rows in movies and netflix. The amount of rows in this dataframe would the sum of the rows. We would get many rows with NaNs because some columns in one dataframe aren't present in the other. "
   ]
  },
  {
   "cell_type": "code",
   "execution_count": null,
   "metadata": {
    "colab": {},
    "colab_type": "code",
    "id": "OSsWk9nOW1Et",
    "scrolled": false
   },
   "outputs": [],
   "source": [
    "combined_outer = pd.merge(left = movies, right = netflix, left_on = 'name', right_on = 'title', how = 'outer')\n",
    "combined_outer"
   ]
  },
  {
   "cell_type": "markdown",
   "metadata": {
    "colab_type": "text",
    "id": "FMhUFDd7dnuh"
   },
   "source": [
    "**Class Exercise**: Budget column discussion (What can we do about the 0s in the budget column? Why do you think there are so many zeros?)"
   ]
  },
  {
   "cell_type": "markdown",
   "metadata": {},
   "source": [
    "Possible Solutions: That info isn't publicly available, so 0 is used as a filler. We could perhaps take the gross column and round to the nearest millionth. We could also average the budget column and fill each 0 with the average. We could get rid of rows with budget 0 but since a majority of rows have budget of 0, it would definitely affect future analysis. "
   ]
  },
  {
   "cell_type": "code",
   "execution_count": null,
   "metadata": {
    "colab": {},
    "colab_type": "code",
    "id": "X3j587cobzMu"
   },
   "outputs": [],
   "source": [
    "len(combined[combined['budget'] == 0])"
   ]
  },
  {
   "cell_type": "markdown",
   "metadata": {
    "colab_type": "text",
    "id": "KRFLe4wxGRem"
   },
   "source": [
    "## Concat"
   ]
  },
  {
   "cell_type": "code",
   "execution_count": null,
   "metadata": {
    "colab": {
     "base_uri": "https://localhost:8080/",
     "height": 581
    },
    "colab_type": "code",
    "executionInfo": {
     "elapsed": 182,
     "status": "ok",
     "timestamp": 1570469639715,
     "user": {
      "displayName": "Anjali Unnithan",
      "photoUrl": "",
      "userId": "10618532203405168572"
     },
     "user_tz": 420
    },
    "id": "crkfdR6YRO1O",
    "outputId": "34ab2dd4-dfad-4f2e-d947-615f692d115f"
   },
   "outputs": [],
   "source": [
    "movies_and_netflix = pd.concat([movies, netflix], axis = 1)\n",
    "movies_and_netflix.head()\n",
    "#Notice that column names don't change at all (ratings)\n",
    "#default of \"outer\" join, but it is the same length as movies because it takes the indices of just the movies dataset because it was the first dataset passed in"
   ]
  },
  {
   "cell_type": "code",
   "execution_count": null,
   "metadata": {
    "colab": {
     "base_uri": "https://localhost:8080/",
     "height": 34
    },
    "colab_type": "code",
    "executionInfo": {
     "elapsed": 193,
     "status": "ok",
     "timestamp": 1570469649892,
     "user": {
      "displayName": "Anjali Unnithan",
      "photoUrl": "",
      "userId": "10618532203405168572"
     },
     "user_tz": 420
    },
    "id": "3A27YkvJRd3U",
    "outputId": "31bbd652-937b-4102-a28c-6db91e131d48"
   },
   "outputs": [],
   "source": [
    "len(movies_and_netflix) == len(movies)"
   ]
  },
  {
   "cell_type": "markdown",
   "metadata": {
    "colab_type": "text",
    "id": "0tubMktj-6Mp"
   },
   "source": [
    "## Apply\n",
    "What if we need to modify the dataframe or a column?\n",
    "<br>\n",
    "We will use the pandas dataframe apply function!\n",
    "<br>\n",
    "df.apply(func, axis=0, broadcast=None, raw=False, reduce=None, result_type=None, args=(), \\*\\*kwds)\n",
    "<br>\n",
    "<br>\n",
    "**func:** Function to be applied to each column or row. This function accepts a series and returns a series.\n",
    "<br>\n",
    "**axis:** Axis along which the function is applied in dataframe. Default value 0.\n",
    "1. If value is 0 then it applies function to each column.\n",
    "2. If value is 1 then it applies function to each row.\n",
    "<br>\n",
    "\n",
    "**args:** tuple / list of arguments to passed to function.\n",
    "<br>\n",
    "For example, we can convert a column to string!"
   ]
  },
  {
   "cell_type": "code",
   "execution_count": null,
   "metadata": {
    "colab": {},
    "colab_type": "code",
    "id": "NGWHlRadAl6h"
   },
   "outputs": [],
   "source": [
    "movies[\"year\"] = movies[\"year\"].apply(func = str)"
   ]
  },
  {
   "cell_type": "code",
   "execution_count": null,
   "metadata": {
    "colab": {
     "base_uri": "https://localhost:8080/",
     "height": 34
    },
    "colab_type": "code",
    "id": "ayqiaRntBkxD",
    "outputId": "9e4dabc1-f2b3-453a-e796-34c88d7b99a4"
   },
   "outputs": [],
   "source": [
    "type(movies[\"year\"][0])"
   ]
  },
  {
   "cell_type": "code",
   "execution_count": null,
   "metadata": {
    "colab": {},
    "colab_type": "code",
    "id": "dabj-kdaDIVP"
   },
   "outputs": [],
   "source": [
    "movies[\"year\"] = \"your code here\" # convert the column back to an integer-type column"
   ]
  },
  {
   "cell_type": "code",
   "execution_count": null,
   "metadata": {
    "colab": {
     "base_uri": "https://localhost:8080/",
     "height": 34
    },
    "colab_type": "code",
    "id": "ZDGr7A-bDXIs",
    "outputId": "8c0f71f3-17c5-4c0e-e852-f9310b8412f7"
   },
   "outputs": [],
   "source": [
    "type(movies[\"year\"][0])"
   ]
  },
  {
   "cell_type": "markdown",
   "metadata": {
    "colab_type": "text",
    "id": "7m_Cz0vxEj4N"
   },
   "source": [
    "What other uses for apply can you think of? We can define our own functions, using lambda."
   ]
  },
  {
   "cell_type": "markdown",
   "metadata": {
    "colab_type": "text",
    "id": "AReulR8bl8TB"
   },
   "source": [
    "# Indexes in Data Frames"
   ]
  },
  {
   "cell_type": "code",
   "execution_count": null,
   "metadata": {
    "colab": {
     "base_uri": "https://localhost:8080/",
     "height": 337
    },
    "colab_type": "code",
    "executionInfo": {
     "elapsed": 409,
     "status": "ok",
     "timestamp": 1570496080759,
     "user": {
      "displayName": "Anjali Unnithan",
      "photoUrl": "",
      "userId": "10618532203405168572"
     },
     "user_tz": 420
    },
    "id": "PPkiDwsZ3BNm",
    "outputId": "358febf1-2a36-44fe-c9fa-c2e45abb1830"
   },
   "outputs": [],
   "source": [
    "netflix.set_index('title').head()"
   ]
  },
  {
   "cell_type": "code",
   "execution_count": null,
   "metadata": {
    "colab": {
     "base_uri": "https://localhost:8080/",
     "height": 1000
    },
    "colab_type": "code",
    "executionInfo": {
     "elapsed": 358,
     "status": "ok",
     "timestamp": 1570496347348,
     "user": {
      "displayName": "Anjali Unnithan",
      "photoUrl": "",
      "userId": "10618532203405168572"
     },
     "user_tz": 420
    },
    "id": "5d9xDhB5Rt90",
    "outputId": "d58a0440-a2d2-4bf4-f7ed-a6515938caa2"
   },
   "outputs": [],
   "source": [
    "movies.set_index(['country', 'rating'])"
   ]
  },
  {
   "cell_type": "code",
   "execution_count": null,
   "metadata": {
    "colab": {
     "base_uri": "https://localhost:8080/",
     "height": 425
    },
    "colab_type": "code",
    "executionInfo": {
     "elapsed": 498,
     "status": "ok",
     "timestamp": 1570496305237,
     "user": {
      "displayName": "Anjali Unnithan",
      "photoUrl": "",
      "userId": "10618532203405168572"
     },
     "user_tz": 420
    },
    "id": "TOPkOuxvlnCY",
    "outputId": "1b04565a-64ca-45bc-8352-be08cf1e50aa"
   },
   "outputs": [],
   "source": [
    "movies.head()"
   ]
  },
  {
   "cell_type": "code",
   "execution_count": null,
   "metadata": {
    "colab": {
     "base_uri": "https://localhost:8080/",
     "height": 1000
    },
    "colab_type": "code",
    "executionInfo": {
     "elapsed": 387,
     "status": "ok",
     "timestamp": 1570496334346,
     "user": {
      "displayName": "Anjali Unnithan",
      "photoUrl": "",
      "userId": "10618532203405168572"
     },
     "user_tz": 420
    },
    "id": "39ysMYXGuWAR",
    "outputId": "1f431f7d-905c-4101-d7a3-8956de241aef"
   },
   "outputs": [],
   "source": [
    "movies.reset_index()"
   ]
  },
  {
   "cell_type": "markdown",
   "metadata": {
    "colab_type": "text",
    "id": "KM4ehFhbSwAO"
   },
   "source": [
    "# Pivot Tables\n",
    "<br>\n",
    "A simple example:"
   ]
  },
  {
   "cell_type": "code",
   "execution_count": null,
   "metadata": {
    "colab": {
     "base_uri": "https://localhost:8080/",
     "height": 136
    },
    "colab_type": "code",
    "id": "VtaJi91mS4s7",
    "outputId": "2d43f045-6cc5-4c9a-808a-b8458378d168"
   },
   "outputs": [],
   "source": [
    "# Create a simple dataframe \n",
    "  \n",
    "# creating a dataframe \n",
    "df = pd.DataFrame({'Name': ['John', 'Boby', 'Mina'], \n",
    "      'Degree': ['Masters', 'Graduate', 'Graduate'], \n",
    "      'Age': [27, 23, 21]}) \n",
    "  \n",
    "df "
   ]
  },
  {
   "cell_type": "code",
   "execution_count": null,
   "metadata": {
    "colab": {
     "base_uri": "https://localhost:8080/",
     "height": 166
    },
    "colab_type": "code",
    "id": "t6uaNba9S-hN",
    "outputId": "6f7f18a3-c89b-4cdc-d01b-6fcfba495e4e"
   },
   "outputs": [],
   "source": [
    "# values can be an object or a list \n",
    "df.pivot('Name', 'Degree', 'Age')"
   ]
  },
  {
   "cell_type": "code",
   "execution_count": null,
   "metadata": {
    "colab": {
     "base_uri": "https://localhost:8080/",
     "height": 195
    },
    "colab_type": "code",
    "id": "VSLFIk93TAHD",
    "outputId": "546077a9-0508-461f-de26-bce76c326643"
   },
   "outputs": [],
   "source": [
    "# value is a list \n",
    "df.pivot(index ='Name', columns ='Degree', values = ['Age']) "
   ]
  },
  {
   "cell_type": "markdown",
   "metadata": {
    "colab_type": "text",
    "id": "CG-Np3SjTL_2"
   },
   "source": [
    "### Let's try it with the movies dataframe!\n",
    "<br>\n",
    "We will use the movies dataframe, because it has a unique index for each row."
   ]
  },
  {
   "cell_type": "code",
   "execution_count": null,
   "metadata": {
    "colab": {
     "base_uri": "https://localhost:8080/",
     "height": 341
    },
    "colab_type": "code",
    "id": "KsVTVcK1K56U",
    "outputId": "b4fb85ba-efc4-4488-eb38-686f4bd1806c"
   },
   "outputs": [],
   "source": [
    "movies.pivot(columns = \"company\", values = [\"name\", \"year\"]).head()"
   ]
  },
  {
   "cell_type": "code",
   "execution_count": null,
   "metadata": {
    "colab": {
     "base_uri": "https://localhost:8080/",
     "height": 1000
    },
    "colab_type": "code",
    "id": "scXpN2s6RqWr",
    "outputId": "8b738ac3-d075-4375-a462-bc94280fc07c"
   },
   "outputs": [],
   "source": [
    "movies_2 = movies.drop_duplicates(subset = \"name\", keep='first', inplace=False)\n",
    "movies_2.pivot(\"name\", \"country\", \"rating\")"
   ]
  },
  {
   "cell_type": "markdown",
   "metadata": {
    "colab_type": "text",
    "id": "05sQTh0LTg2H"
   },
   "source": [
    "As you can see, this table is not very informative. How should we proceed?"
   ]
  },
  {
   "cell_type": "code",
   "execution_count": null,
   "metadata": {
    "colab": {
     "base_uri": "https://localhost:8080/",
     "height": 558
    },
    "colab_type": "code",
    "id": "YbE4cWUaUTyN",
    "outputId": "66467dae-e6c7-4545-9535-14b12d1a3cc6"
   },
   "outputs": [],
   "source": [
    "movies.pivot_table(index = [\"director\", \"genre\", \"name\"], aggfunc=list).sample(10)"
   ]
  },
  {
   "cell_type": "markdown",
   "metadata": {
    "colab_type": "text",
    "id": "Jlatm_qosDWw"
   },
   "source": [
    "pivot_table is a simplified version of pivot, you supply the index, and aggregation function. The information in the above table is the same as the information in the original dataframe, but it's easier to read."
   ]
  },
  {
   "cell_type": "markdown",
   "metadata": {
    "colab_type": "text",
    "id": "gpcnB4mSUUmd"
   },
   "source": [
    "# Getting started with visualization libraries in python:"
   ]
  },
  {
   "cell_type": "markdown",
   "metadata": {
    "colab_type": "text",
    "id": "mX_Ehc_lUeON"
   },
   "source": [
    "#### Seaborn is a popular visualization library commonly used in conjunction with pandas\n",
    "<br>\n",
    "We will use it to learn more about our movies dataset"
   ]
  },
  {
   "cell_type": "code",
   "execution_count": null,
   "metadata": {
    "colab": {
     "base_uri": "https://localhost:8080/",
     "height": 470
    },
    "colab_type": "code",
    "id": "6O1kd13MUsvc",
    "outputId": "974a4a5b-6615-4c29-89e1-30750dceaaa4"
   },
   "outputs": [],
   "source": [
    "import seaborn as sns\n",
    "import matplotlib.pyplot as plt\n",
    "# simple plot, lets learn about how well the movies in our dataset have done, by genre\n",
    "plt.figure(figsize=(15, 7))\n",
    "sns.scatterplot(x = \"budget\", y = \"gross\", data = movies.sample(100), hue = \"genre\")"
   ]
  },
  {
   "cell_type": "markdown",
   "metadata": {
    "colab_type": "text",
    "id": "1yLdc09iWDYl"
   },
   "source": [
    "Because of overplotting, we cannot appropriately compare which genres perform well. We can use other visualizations to learn more about our dataset."
   ]
  },
  {
   "cell_type": "code",
   "execution_count": null,
   "metadata": {
    "colab": {
     "base_uri": "https://localhost:8080/",
     "height": 382
    },
    "colab_type": "code",
    "id": "b87qPSjiVKc4",
    "outputId": "9eb25702-7312-4f61-ebb4-fe8663052387"
   },
   "outputs": [],
   "source": [
    "# Let's try a violin plot, its function is similar to a box and whisker plot, which is to visualize the distribution of a category\n",
    "plt.figure(figsize=(50, 20))\n",
    "sns.violinplot(x = \"genre\", y = \"gross\", data = movies, hue = \"genre\")\n",
    "plt.legend(loc='center left', bbox_to_anchor=(1.25, 0.5), ncol=1)"
   ]
  },
  {
   "cell_type": "code",
   "execution_count": null,
   "metadata": {
    "colab": {
     "base_uri": "https://localhost:8080/",
     "height": 633
    },
    "colab_type": "code",
    "id": "Y2Ht2IukxLaN",
    "outputId": "03db9519-8d09-421e-880e-cdaddf58ad48"
   },
   "outputs": [],
   "source": [
    "plt.figure(figsize=(15, 10))\n",
    "# learn more about each category\n",
    "sns.scatterplot(x = \"budget\", y = \"gross\", data = movies[movies[\"genre\"] == \"Adventure\"])"
   ]
  },
  {
   "cell_type": "code",
   "execution_count": null,
   "metadata": {
    "colab": {
     "base_uri": "https://localhost:8080/",
     "height": 354
    },
    "colab_type": "code",
    "id": "4__FtR5Hs6rH",
    "outputId": "38fd6e69-9760-43db-d74e-e209e62823aa",
    "scrolled": true
   },
   "outputs": [],
   "source": [
    "plt.figure(figsize=(20, 5))\n",
    "sns.barplot(x = \"rating\", y = \"votes\", data = movies) # switch y around to learn more"
   ]
  },
  {
   "cell_type": "code",
   "execution_count": null,
   "metadata": {},
   "outputs": [],
   "source": []
  }
 ],
 "metadata": {
  "colab": {
   "collapsed_sections": [],
   "name": "braatatatattttt.ipynb",
   "provenance": []
  },
  "kernelspec": {
   "display_name": "Python 3",
   "language": "python",
   "name": "python3"
  },
  "language_info": {
   "codemirror_mode": {
    "name": "ipython",
    "version": 3
   },
   "file_extension": ".py",
   "mimetype": "text/x-python",
   "name": "python",
   "nbconvert_exporter": "python",
   "pygments_lexer": "ipython3",
   "version": "3.6.5"
  }
 },
 "nbformat": 4,
 "nbformat_minor": 1
}
